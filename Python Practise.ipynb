{
 "cells": [
  {
   "cell_type": "markdown",
   "id": "dfb570ea",
   "metadata": {},
   "source": [
    "*first line in list\n",
    "*second line in list"
   ]
  },
  {
   "cell_type": "code",
   "execution_count": null,
   "id": "2179b894",
   "metadata": {},
   "outputs": [],
   "source": []
  },
  {
   "cell_type": "markdown",
   "id": "b35d674b",
   "metadata": {},
   "source": [
    "Using print()to dispaly meaage"
   ]
  },
  {
   "cell_type": "code",
   "execution_count": 6,
   "id": "3ae61439",
   "metadata": {},
   "outputs": [
    {
     "name": "stdout",
     "output_type": "stream",
     "text": [
      "hi, welcome to this python data analysis annd visualization courses\n"
     ]
    }
   ],
   "source": [
    "print(\"hi, welcome to this python data analysis annd visualization courses\")"
   ]
  },
  {
   "cell_type": "code",
   "execution_count": 7,
   "id": "c8662623",
   "metadata": {},
   "outputs": [
    {
     "name": "stdout",
     "output_type": "stream",
     "text": [
      "first message\n",
      "second message\n",
      "thrid message\n"
     ]
    }
   ],
   "source": [
    "print(\"first message\")\n",
    "print(\"second message\")\n",
    "print(\"thrid message\")"
   ]
  },
  {
   "cell_type": "code",
   "execution_count": 9,
   "id": "4959851e",
   "metadata": {},
   "outputs": [],
   "source": [
    "x=\"sb,leihao\""
   ]
  },
  {
   "cell_type": "code",
   "execution_count": 10,
   "id": "021ba173",
   "metadata": {},
   "outputs": [
    {
     "name": "stdout",
     "output_type": "stream",
     "text": [
      "sb,leihao\n"
     ]
    }
   ],
   "source": [
    "print(x)"
   ]
  },
  {
   "cell_type": "code",
   "execution_count": 11,
   "id": "310e07ae",
   "metadata": {},
   "outputs": [
    {
     "data": {
      "text/plain": [
       "'sb,leihao'"
      ]
     },
     "execution_count": 11,
     "metadata": {},
     "output_type": "execute_result"
    }
   ],
   "source": [
    "x"
   ]
  },
  {
   "cell_type": "code",
   "execution_count": 15,
   "id": "70daaa22",
   "metadata": {},
   "outputs": [],
   "source": [
    "import numpy as np"
   ]
  },
  {
   "cell_type": "code",
   "execution_count": 14,
   "id": "2f1e81e3",
   "metadata": {},
   "outputs": [
    {
     "name": "stdout",
     "output_type": "stream",
     "text": [
      "Collecting package metadata (current_repodata.json): done\n",
      "Solving environment: done\n",
      "\n",
      "## Package Plan ##\n",
      "\n",
      "  environment location: /Users/elaine/opt/anaconda3/envs/renv\n",
      "\n",
      "  added / updated specs:\n",
      "    - numpy\n",
      "\n",
      "\n",
      "The following packages will be downloaded:\n",
      "\n",
      "    package                    |            build\n",
      "    ---------------------------|-----------------\n",
      "    mkl-service-2.4.0          |   py38h9ed2024_0          45 KB\n",
      "    mkl_fft-1.3.1              |   py38h4ab4a9b_0         165 KB\n",
      "    mkl_random-1.2.2           |   py38hb2f4e1b_0         273 KB\n",
      "    numpy-1.21.2               |   py38h4b4dc7a_0          23 KB\n",
      "    numpy-base-1.21.2          |   py38he0bd621_0         4.6 MB\n",
      "    ------------------------------------------------------------\n",
      "                                           Total:         5.1 MB\n",
      "\n",
      "The following NEW packages will be INSTALLED:\n",
      "\n",
      "  blas               pkgs/main/osx-64::blas-1.0-mkl\n",
      "  intel-openmp       pkgs/main/osx-64::intel-openmp-2021.4.0-hecd8cb5_3538\n",
      "  mkl                pkgs/main/osx-64::mkl-2021.4.0-hecd8cb5_637\n",
      "  mkl-service        pkgs/main/osx-64::mkl-service-2.4.0-py38h9ed2024_0\n",
      "  mkl_fft            pkgs/main/osx-64::mkl_fft-1.3.1-py38h4ab4a9b_0\n",
      "  mkl_random         pkgs/main/osx-64::mkl_random-1.2.2-py38hb2f4e1b_0\n",
      "  numpy              pkgs/main/osx-64::numpy-1.21.2-py38h4b4dc7a_0\n",
      "  numpy-base         pkgs/main/osx-64::numpy-base-1.21.2-py38he0bd621_0\n",
      "\n",
      "\n",
      "\n",
      "Downloading and Extracting Packages\n",
      "mkl_fft-1.3.1        | 165 KB    | ##################################### | 100% \n",
      "numpy-base-1.21.2    | 4.6 MB    | ##################################### | 100% \n",
      "mkl-service-2.4.0    | 45 KB     | ##################################### | 100% \n",
      "numpy-1.21.2         | 23 KB     | ##################################### | 100% \n",
      "mkl_random-1.2.2     | 273 KB    | ##################################### | 100% \n",
      "Preparing transaction: done\n",
      "Verifying transaction: done\n",
      "Executing transaction: done\n",
      "\n",
      "Note: you may need to restart the kernel to use updated packages.\n"
     ]
    }
   ],
   "source": [
    "conda install numpy"
   ]
  },
  {
   "cell_type": "code",
   "execution_count": 18,
   "id": "8755d493",
   "metadata": {},
   "outputs": [],
   "source": [
    "import numpy as np"
   ]
  },
  {
   "cell_type": "code",
   "execution_count": 19,
   "id": "a9af462f",
   "metadata": {},
   "outputs": [
    {
     "data": {
      "text/plain": [
       "array([0, 1, 2, 3, 4, 5, 6])"
      ]
     },
     "execution_count": 19,
     "metadata": {},
     "output_type": "execute_result"
    }
   ],
   "source": [
    "np.arange(7)"
   ]
  },
  {
   "cell_type": "code",
   "execution_count": 1,
   "id": "adaa8ada",
   "metadata": {},
   "outputs": [],
   "source": [
    "message=\"this is a comprehensive course!\""
   ]
  },
  {
   "cell_type": "code",
   "execution_count": 2,
   "id": "89745ea5",
   "metadata": {},
   "outputs": [
    {
     "name": "stdout",
     "output_type": "stream",
     "text": [
      "this is a comprehensive course!\n"
     ]
    }
   ],
   "source": [
    "print(message)"
   ]
  },
  {
   "cell_type": "code",
   "execution_count": 3,
   "id": "b5981919",
   "metadata": {},
   "outputs": [],
   "source": [
    "x=10\n",
    "y=20.3\n",
    "z=20+5j"
   ]
  },
  {
   "cell_type": "code",
   "execution_count": 4,
   "id": "563d0827",
   "metadata": {},
   "outputs": [
    {
     "data": {
      "text/plain": [
       "10"
      ]
     },
     "execution_count": 4,
     "metadata": {},
     "output_type": "execute_result"
    }
   ],
   "source": [
    "x"
   ]
  },
  {
   "cell_type": "code",
   "execution_count": 5,
   "id": "97da56de",
   "metadata": {},
   "outputs": [
    {
     "data": {
      "text/plain": [
       "20.3"
      ]
     },
     "execution_count": 5,
     "metadata": {},
     "output_type": "execute_result"
    }
   ],
   "source": [
    "y"
   ]
  },
  {
   "cell_type": "code",
   "execution_count": 6,
   "id": "7111fb81",
   "metadata": {},
   "outputs": [
    {
     "data": {
      "text/plain": [
       "(20+5j)"
      ]
     },
     "execution_count": 6,
     "metadata": {},
     "output_type": "execute_result"
    }
   ],
   "source": [
    "z"
   ]
  },
  {
   "cell_type": "code",
   "execution_count": 10,
   "id": "8dee2def",
   "metadata": {},
   "outputs": [],
   "source": [
    "test=False"
   ]
  },
  {
   "cell_type": "code",
   "execution_count": 11,
   "id": "876ebe0b",
   "metadata": {},
   "outputs": [
    {
     "data": {
      "text/plain": [
       "bool"
      ]
     },
     "execution_count": 11,
     "metadata": {},
     "output_type": "execute_result"
    }
   ],
   "source": [
    "type(test)"
   ]
  },
  {
   "cell_type": "code",
   "execution_count": 12,
   "id": "b9b9cd9f",
   "metadata": {},
   "outputs": [],
   "source": [
    "test=True"
   ]
  },
  {
   "cell_type": "code",
   "execution_count": 13,
   "id": "74d1cfbb",
   "metadata": {},
   "outputs": [
    {
     "data": {
      "text/plain": [
       "bool"
      ]
     },
     "execution_count": 13,
     "metadata": {},
     "output_type": "execute_result"
    }
   ],
   "source": [
    "type(test)"
   ]
  },
  {
   "cell_type": "code",
   "execution_count": 14,
   "id": "271c7f5a",
   "metadata": {},
   "outputs": [
    {
     "data": {
      "text/plain": [
       "int"
      ]
     },
     "execution_count": 14,
     "metadata": {},
     "output_type": "execute_result"
    }
   ],
   "source": [
    "type(1)"
   ]
  },
  {
   "cell_type": "code",
   "execution_count": 15,
   "id": "7b2f0f4d",
   "metadata": {},
   "outputs": [
    {
     "data": {
      "text/plain": [
       "float"
      ]
     },
     "execution_count": 15,
     "metadata": {},
     "output_type": "execute_result"
    }
   ],
   "source": [
    "type(2.5)"
   ]
  },
  {
   "cell_type": "code",
   "execution_count": 17,
   "id": "43c03a83",
   "metadata": {},
   "outputs": [
    {
     "data": {
      "text/plain": [
       "complex"
      ]
     },
     "execution_count": 17,
     "metadata": {},
     "output_type": "execute_result"
    }
   ],
   "source": [
    "type(4j)"
   ]
  },
  {
   "cell_type": "code",
   "execution_count": 18,
   "id": "68e75053",
   "metadata": {},
   "outputs": [
    {
     "data": {
      "text/plain": [
       "list"
      ]
     },
     "execution_count": 18,
     "metadata": {},
     "output_type": "execute_result"
    }
   ],
   "source": [
    "type([1,2,3])"
   ]
  },
  {
   "cell_type": "code",
   "execution_count": 19,
   "id": "7a63b42b",
   "metadata": {},
   "outputs": [
    {
     "data": {
      "text/plain": [
       "str"
      ]
     },
     "execution_count": 19,
     "metadata": {},
     "output_type": "execute_result"
    }
   ],
   "source": [
    "type(message)"
   ]
  },
  {
   "cell_type": "code",
   "execution_count": 21,
   "id": "0cadb427",
   "metadata": {},
   "outputs": [
    {
     "data": {
      "text/plain": [
       "complex"
      ]
     },
     "execution_count": 21,
     "metadata": {},
     "output_type": "execute_result"
    }
   ],
   "source": [
    "type(3+9j)"
   ]
  },
  {
   "cell_type": "code",
   "execution_count": 22,
   "id": "67fbb88f",
   "metadata": {},
   "outputs": [
    {
     "data": {
      "text/plain": [
       "str"
      ]
     },
     "execution_count": 22,
     "metadata": {},
     "output_type": "execute_result"
    }
   ],
   "source": [
    "type(\"bello,world\")"
   ]
  },
  {
   "cell_type": "code",
   "execution_count": 23,
   "id": "8947a28b",
   "metadata": {},
   "outputs": [
    {
     "name": "stdout",
     "output_type": "stream",
     "text": [
      "hi jupyter!\n"
     ]
    }
   ],
   "source": [
    "#block sigle linw comment\n",
    "test=\"hi jupyter!\"\n",
    "print(test)"
   ]
  },
  {
   "cell_type": "code",
   "execution_count": 25,
   "id": "37bc6e61",
   "metadata": {},
   "outputs": [
    {
     "name": "stdout",
     "output_type": "stream",
     "text": [
      "#this is not a comment\n"
     ]
    }
   ],
   "source": [
    "print(\"#this is not a comment\") # but this is a comment"
   ]
  },
  {
   "cell_type": "code",
   "execution_count": 26,
   "id": "6a82dc81",
   "metadata": {},
   "outputs": [],
   "source": [
    "# first line of comment\n",
    "# second line of comment\n",
    "# third line of comment"
   ]
  },
  {
   "cell_type": "code",
   "execution_count": 34,
   "id": "4a6badeb",
   "metadata": {},
   "outputs": [
    {
     "name": "stdout",
     "output_type": "stream",
     "text": [
      "hello,world!\n"
     ]
    }
   ],
   "source": [
    "if True:\n",
    " print (\"hello,world!\")"
   ]
  },
  {
   "cell_type": "markdown",
   "id": "fbfb09a5",
   "metadata": {},
   "source": [
    "string data type"
   ]
  },
  {
   "cell_type": "code",
   "execution_count": 35,
   "id": "84ae848d",
   "metadata": {},
   "outputs": [
    {
     "data": {
      "text/plain": [
       "str"
      ]
     },
     "execution_count": 35,
     "metadata": {},
     "output_type": "execute_result"
    }
   ],
   "source": [
    "type(\"welcome to jupyter\")"
   ]
  },
  {
   "cell_type": "code",
   "execution_count": 36,
   "id": "de044644",
   "metadata": {},
   "outputs": [],
   "source": [
    "name=\"Python Data Analysis and visualization\""
   ]
  },
  {
   "cell_type": "code",
   "execution_count": 37,
   "id": "27d53e62",
   "metadata": {},
   "outputs": [
    {
     "data": {
      "text/plain": [
       "str"
      ]
     },
     "execution_count": 37,
     "metadata": {},
     "output_type": "execute_result"
    }
   ],
   "source": [
    "type(name)"
   ]
  },
  {
   "cell_type": "code",
   "execution_count": 38,
   "id": "4825b2ca",
   "metadata": {},
   "outputs": [],
   "source": [
    "mix=\"Hi number123\""
   ]
  },
  {
   "cell_type": "code",
   "execution_count": 39,
   "id": "cb4a6abd",
   "metadata": {},
   "outputs": [
    {
     "data": {
      "text/plain": [
       "str"
      ]
     },
     "execution_count": 39,
     "metadata": {},
     "output_type": "execute_result"
    }
   ],
   "source": [
    "type(mix)"
   ]
  },
  {
   "cell_type": "code",
   "execution_count": 40,
   "id": "54c67442",
   "metadata": {},
   "outputs": [],
   "source": [
    "new_str = \"we said that'python is powerful'\""
   ]
  },
  {
   "cell_type": "code",
   "execution_count": 41,
   "id": "6bc9583a",
   "metadata": {},
   "outputs": [
    {
     "data": {
      "text/plain": [
       "\"we said that'python is powerful'\""
      ]
     },
     "execution_count": 41,
     "metadata": {},
     "output_type": "execute_result"
    }
   ],
   "source": [
    "new_str"
   ]
  },
  {
   "cell_type": "code",
   "execution_count": 42,
   "id": "2a63917a",
   "metadata": {},
   "outputs": [
    {
     "ename": "SyntaxError",
     "evalue": "invalid syntax (1133853570.py, line 1)",
     "output_type": "error",
     "traceback": [
      "\u001b[0;36m  File \u001b[0;32m\"/var/folders/zp/rhfm7hrj1q3161_lznkqsflh0000gn/T/ipykernel_29594/1133853570.py\"\u001b[0;36m, line \u001b[0;32m1\u001b[0m\n\u001b[0;31m    new_str= \"we said that\"python is powerful\"\"\u001b[0m\n\u001b[0m                           ^\u001b[0m\n\u001b[0;31mSyntaxError\u001b[0m\u001b[0;31m:\u001b[0m invalid syntax\n"
     ]
    }
   ],
   "source": [
    "new_str= \"we said that\"python is powerful\"\""
   ]
  },
  {
   "cell_type": "code",
   "execution_count": 45,
   "id": "afd2bc7d",
   "metadata": {},
   "outputs": [],
   "source": [
    "new_str= \"we said that\\\"python is powerful\\\"\""
   ]
  },
  {
   "cell_type": "code",
   "execution_count": 46,
   "id": "33e0b112",
   "metadata": {},
   "outputs": [
    {
     "data": {
      "text/plain": [
       "'we said that\"python is powerful\"'"
      ]
     },
     "execution_count": 46,
     "metadata": {},
     "output_type": "execute_result"
    }
   ],
   "source": [
    "new_str"
   ]
  },
  {
   "cell_type": "code",
   "execution_count": 48,
   "id": "2c1696b1",
   "metadata": {},
   "outputs": [
    {
     "data": {
      "text/plain": [
       "32"
      ]
     },
     "execution_count": 48,
     "metadata": {},
     "output_type": "execute_result"
    }
   ],
   "source": [
    "len(new_str)"
   ]
  },
  {
   "cell_type": "code",
   "execution_count": 50,
   "id": "e259bfaa",
   "metadata": {},
   "outputs": [
    {
     "data": {
      "text/plain": [
       "'w'"
      ]
     },
     "execution_count": 50,
     "metadata": {},
     "output_type": "execute_result"
    }
   ],
   "source": [
    "new_str[0]"
   ]
  },
  {
   "cell_type": "code",
   "execution_count": 51,
   "id": "7cb95e67",
   "metadata": {},
   "outputs": [
    {
     "data": {
      "text/plain": [
       "'e'"
      ]
     },
     "execution_count": 51,
     "metadata": {},
     "output_type": "execute_result"
    }
   ],
   "source": [
    "new_str[1]"
   ]
  },
  {
   "cell_type": "code",
   "execution_count": 52,
   "id": "a94a8e9a",
   "metadata": {},
   "outputs": [],
   "source": [
    "new_multiple= \"this is a multiple line string data \\\n",
    "in python programing. \\\n",
    "it is very easy way as you can see!\"\n"
   ]
  },
  {
   "cell_type": "code",
   "execution_count": 53,
   "id": "080d4559",
   "metadata": {},
   "outputs": [
    {
     "data": {
      "text/plain": [
       "'this is a multiple line string data in python programing. it is very easy way as you can see!'"
      ]
     },
     "execution_count": 53,
     "metadata": {},
     "output_type": "execute_result"
    }
   ],
   "source": [
    "new_multiple"
   ]
  },
  {
   "cell_type": "code",
   "execution_count": 55,
   "id": "8f707b5b",
   "metadata": {},
   "outputs": [],
   "source": [
    "new_multiple1=\"\"\"Another way to create multiple line string \n",
    "for multiple line text pragrph \n",
    "it is also easy!\"\"\""
   ]
  },
  {
   "cell_type": "code",
   "execution_count": 56,
   "id": "0eb368d5",
   "metadata": {},
   "outputs": [
    {
     "data": {
      "text/plain": [
       "'Another way to create multiple line string \\nfor multiple line text pragrph \\nit is also easy!'"
      ]
     },
     "execution_count": 56,
     "metadata": {},
     "output_type": "execute_result"
    }
   ],
   "source": [
    "new_multiple1"
   ]
  },
  {
   "cell_type": "code",
   "execution_count": 59,
   "id": "6cbedf02",
   "metadata": {},
   "outputs": [],
   "source": [
    "word1=\"python\"\n",
    "word2=\"programing\"\n",
    "fullText=word1+\" \"+word2"
   ]
  },
  {
   "cell_type": "code",
   "execution_count": 60,
   "id": "81be2cf1",
   "metadata": {},
   "outputs": [
    {
     "data": {
      "text/plain": [
       "'python programing'"
      ]
     },
     "execution_count": 60,
     "metadata": {},
     "output_type": "execute_result"
    }
   ],
   "source": [
    "fullText"
   ]
  },
  {
   "cell_type": "code",
   "execution_count": 61,
   "id": "6df7bb86",
   "metadata": {},
   "outputs": [
    {
     "data": {
      "text/plain": [
       "'pyth'"
      ]
     },
     "execution_count": 61,
     "metadata": {},
     "output_type": "execute_result"
    }
   ],
   "source": [
    "fullText[0:4]"
   ]
  },
  {
   "cell_type": "code",
   "execution_count": 63,
   "id": "5ea8fbb0",
   "metadata": {},
   "outputs": [
    {
     "data": {
      "text/plain": [
       "'i'"
      ]
     },
     "execution_count": 63,
     "metadata": {},
     "output_type": "execute_result"
    }
   ],
   "source": [
    "fullText[-3]"
   ]
  },
  {
   "cell_type": "code",
   "execution_count": 64,
   "id": "2122a14c",
   "metadata": {},
   "outputs": [
    {
     "data": {
      "text/plain": [
       "'g'"
      ]
     },
     "execution_count": 64,
     "metadata": {},
     "output_type": "execute_result"
    }
   ],
   "source": [
    "fullText[-1]"
   ]
  },
  {
   "cell_type": "code",
   "execution_count": 65,
   "id": "d01d1c09",
   "metadata": {},
   "outputs": [
    {
     "data": {
      "text/plain": [
       "'python '"
      ]
     },
     "execution_count": 65,
     "metadata": {},
     "output_type": "execute_result"
    }
   ],
   "source": [
    "fullText[:7]"
   ]
  },
  {
   "cell_type": "code",
   "execution_count": 66,
   "id": "7ed3feca",
   "metadata": {},
   "outputs": [
    {
     "data": {
      "text/plain": [
       "'programing'"
      ]
     },
     "execution_count": 66,
     "metadata": {},
     "output_type": "execute_result"
    }
   ],
   "source": [
    "fullText[7:]"
   ]
  },
  {
   "cell_type": "code",
   "execution_count": 68,
   "id": "d5a272d3",
   "metadata": {},
   "outputs": [
    {
     "data": {
      "text/plain": [
       "'PYTHON PROGRAMING'"
      ]
     },
     "execution_count": 68,
     "metadata": {},
     "output_type": "execute_result"
    }
   ],
   "source": [
    "fullText.upper()"
   ]
  },
  {
   "cell_type": "code",
   "execution_count": 69,
   "id": "5f91eb4b",
   "metadata": {},
   "outputs": [
    {
     "data": {
      "text/plain": [
       "17"
      ]
     },
     "execution_count": 69,
     "metadata": {},
     "output_type": "execute_result"
    }
   ],
   "source": [
    "len(fullText)"
   ]
  },
  {
   "cell_type": "code",
   "execution_count": 70,
   "id": "e1884dd6",
   "metadata": {},
   "outputs": [],
   "source": [
    "a = ' PPPpp liL. '"
   ]
  },
  {
   "cell_type": "code",
   "execution_count": 71,
   "id": "62ff129b",
   "metadata": {},
   "outputs": [
    {
     "data": {
      "text/plain": [
       "'PPPpp liL.'"
      ]
     },
     "execution_count": 71,
     "metadata": {},
     "output_type": "execute_result"
    }
   ],
   "source": [
    "a.strip()"
   ]
  },
  {
   "cell_type": "code",
   "execution_count": 72,
   "id": "3d5fbcd4",
   "metadata": {},
   "outputs": [],
   "source": [
    "x=10"
   ]
  },
  {
   "cell_type": "code",
   "execution_count": 73,
   "id": "5f502f9f",
   "metadata": {},
   "outputs": [
    {
     "data": {
      "text/plain": [
       "int"
      ]
     },
     "execution_count": 73,
     "metadata": {},
     "output_type": "execute_result"
    }
   ],
   "source": [
    "type(x)"
   ]
  },
  {
   "cell_type": "code",
   "execution_count": 74,
   "id": "77aad607",
   "metadata": {},
   "outputs": [
    {
     "data": {
      "text/plain": [
       "10"
      ]
     },
     "execution_count": 74,
     "metadata": {},
     "output_type": "execute_result"
    }
   ],
   "source": [
    "int(x)"
   ]
  },
  {
   "cell_type": "code",
   "execution_count": 75,
   "id": "d79a22d5",
   "metadata": {},
   "outputs": [],
   "source": [
    "y=\"11\""
   ]
  },
  {
   "cell_type": "code",
   "execution_count": 76,
   "id": "80d112db",
   "metadata": {},
   "outputs": [
    {
     "data": {
      "text/plain": [
       "str"
      ]
     },
     "execution_count": 76,
     "metadata": {},
     "output_type": "execute_result"
    }
   ],
   "source": [
    "type(y)"
   ]
  },
  {
   "cell_type": "code",
   "execution_count": 77,
   "id": "2cc50b34",
   "metadata": {},
   "outputs": [
    {
     "data": {
      "text/plain": [
       "3"
      ]
     },
     "execution_count": 77,
     "metadata": {},
     "output_type": "execute_result"
    }
   ],
   "source": [
    "int(3.5)"
   ]
  },
  {
   "cell_type": "code",
   "execution_count": 78,
   "id": "5ea2e311",
   "metadata": {},
   "outputs": [],
   "source": [
    "x=4.9"
   ]
  },
  {
   "cell_type": "code",
   "execution_count": 79,
   "id": "d47e5d27",
   "metadata": {},
   "outputs": [
    {
     "data": {
      "text/plain": [
       "float"
      ]
     },
     "execution_count": 79,
     "metadata": {},
     "output_type": "execute_result"
    }
   ],
   "source": [
    "type(x)"
   ]
  },
  {
   "cell_type": "code",
   "execution_count": 80,
   "id": "0fd60ab2",
   "metadata": {},
   "outputs": [
    {
     "data": {
      "text/plain": [
       "11.0"
      ]
     },
     "execution_count": 80,
     "metadata": {},
     "output_type": "execute_result"
    }
   ],
   "source": [
    "float(y)"
   ]
  },
  {
   "cell_type": "code",
   "execution_count": 81,
   "id": "8fb55047",
   "metadata": {},
   "outputs": [
    {
     "data": {
      "text/plain": [
       "82.0"
      ]
     },
     "execution_count": 81,
     "metadata": {},
     "output_type": "execute_result"
    }
   ],
   "source": [
    "float(82)"
   ]
  },
  {
   "cell_type": "code",
   "execution_count": 82,
   "id": "68b34349",
   "metadata": {},
   "outputs": [],
   "source": [
    "z=3e+19"
   ]
  },
  {
   "cell_type": "code",
   "execution_count": 83,
   "id": "6d0bad27",
   "metadata": {},
   "outputs": [
    {
     "data": {
      "text/plain": [
       "float"
      ]
     },
     "execution_count": 83,
     "metadata": {},
     "output_type": "execute_result"
    }
   ],
   "source": [
    "type(z)"
   ]
  },
  {
   "cell_type": "code",
   "execution_count": 84,
   "id": "f0b106a7",
   "metadata": {},
   "outputs": [
    {
     "data": {
      "text/plain": [
       "3e+19"
      ]
     },
     "execution_count": 84,
     "metadata": {},
     "output_type": "execute_result"
    }
   ],
   "source": [
    "float(z)"
   ]
  },
  {
   "cell_type": "code",
   "execution_count": 85,
   "id": "c5b3d8ca",
   "metadata": {},
   "outputs": [],
   "source": [
    "w=9-7j"
   ]
  },
  {
   "cell_type": "code",
   "execution_count": 86,
   "id": "d1ee9d01",
   "metadata": {},
   "outputs": [
    {
     "data": {
      "text/plain": [
       "complex"
      ]
     },
     "execution_count": 86,
     "metadata": {},
     "output_type": "execute_result"
    }
   ],
   "source": [
    "type(w)"
   ]
  },
  {
   "cell_type": "code",
   "execution_count": 88,
   "id": "2d68e70e",
   "metadata": {},
   "outputs": [
    {
     "data": {
      "text/plain": [
       "(52+0j)"
      ]
     },
     "execution_count": 88,
     "metadata": {},
     "output_type": "execute_result"
    }
   ],
   "source": [
    "complex(52)"
   ]
  },
  {
   "cell_type": "code",
   "execution_count": 89,
   "id": "80af78c5",
   "metadata": {},
   "outputs": [
    {
     "data": {
      "text/plain": [
       "18"
      ]
     },
     "execution_count": 89,
     "metadata": {},
     "output_type": "execute_result"
    }
   ],
   "source": [
    "10+8"
   ]
  },
  {
   "cell_type": "code",
   "execution_count": 90,
   "id": "05112710",
   "metadata": {},
   "outputs": [
    {
     "data": {
      "text/plain": [
       "10"
      ]
     },
     "execution_count": 90,
     "metadata": {},
     "output_type": "execute_result"
    }
   ],
   "source": [
    "23-13"
   ]
  },
  {
   "cell_type": "code",
   "execution_count": 91,
   "id": "7019dc8e",
   "metadata": {},
   "outputs": [
    {
     "data": {
      "text/plain": [
       "89600"
      ]
     },
     "execution_count": 91,
     "metadata": {},
     "output_type": "execute_result"
    }
   ],
   "source": [
    "100*896"
   ]
  },
  {
   "cell_type": "code",
   "execution_count": 92,
   "id": "cf4c7cac",
   "metadata": {},
   "outputs": [
    {
     "data": {
      "text/plain": [
       "4.0"
      ]
     },
     "execution_count": 92,
     "metadata": {},
     "output_type": "execute_result"
    }
   ],
   "source": [
    "12/3"
   ]
  },
  {
   "cell_type": "code",
   "execution_count": 93,
   "id": "0b79d41c",
   "metadata": {},
   "outputs": [
    {
     "data": {
      "text/plain": [
       "3.25"
      ]
     },
     "execution_count": 93,
     "metadata": {},
     "output_type": "execute_result"
    }
   ],
   "source": [
    "13/4"
   ]
  },
  {
   "cell_type": "code",
   "execution_count": 94,
   "id": "6c5e0e81",
   "metadata": {},
   "outputs": [
    {
     "data": {
      "text/plain": [
       "3"
      ]
     },
     "execution_count": 94,
     "metadata": {},
     "output_type": "execute_result"
    }
   ],
   "source": [
    "13//4"
   ]
  },
  {
   "cell_type": "code",
   "execution_count": 95,
   "id": "31734008",
   "metadata": {},
   "outputs": [
    {
     "data": {
      "text/plain": [
       "4"
      ]
     },
     "execution_count": 95,
     "metadata": {},
     "output_type": "execute_result"
    }
   ],
   "source": [
    "2**2"
   ]
  },
  {
   "cell_type": "code",
   "execution_count": 96,
   "id": "58e118d4",
   "metadata": {},
   "outputs": [
    {
     "data": {
      "text/plain": [
       "729"
      ]
     },
     "execution_count": 96,
     "metadata": {},
     "output_type": "execute_result"
    }
   ],
   "source": [
    "9**3"
   ]
  },
  {
   "cell_type": "code",
   "execution_count": 97,
   "id": "44bdba11",
   "metadata": {},
   "outputs": [
    {
     "data": {
      "text/plain": [
       "2"
      ]
     },
     "execution_count": 97,
     "metadata": {},
     "output_type": "execute_result"
    }
   ],
   "source": [
    "11%3"
   ]
  },
  {
   "cell_type": "code",
   "execution_count": 98,
   "id": "ebdff6f2",
   "metadata": {},
   "outputs": [
    {
     "data": {
      "text/plain": [
       "1"
      ]
     },
     "execution_count": 98,
     "metadata": {},
     "output_type": "execute_result"
    }
   ],
   "source": [
    "19%6"
   ]
  },
  {
   "cell_type": "code",
   "execution_count": 99,
   "id": "b81b698c",
   "metadata": {},
   "outputs": [
    {
     "data": {
      "text/plain": [
       "16.714285714285715"
      ]
     },
     "execution_count": 99,
     "metadata": {},
     "output_type": "execute_result"
    }
   ],
   "source": [
    "2*10-5+(12/7)"
   ]
  },
  {
   "cell_type": "code",
   "execution_count": 100,
   "id": "1a24618a",
   "metadata": {},
   "outputs": [
    {
     "data": {
      "text/plain": [
       "97.16"
      ]
     },
     "execution_count": 100,
     "metadata": {},
     "output_type": "execute_result"
    }
   ],
   "source": [
    "0.7+5.3*(12+6.2)"
   ]
  },
  {
   "cell_type": "code",
   "execution_count": 103,
   "id": "ba46875d",
   "metadata": {},
   "outputs": [
    {
     "data": {
      "text/plain": [
       "8"
      ]
     },
     "execution_count": 103,
     "metadata": {},
     "output_type": "execute_result"
    }
   ],
   "source": [
    "pow(2,3)"
   ]
  },
  {
   "cell_type": "code",
   "execution_count": 104,
   "id": "850c46b1",
   "metadata": {},
   "outputs": [
    {
     "data": {
      "text/plain": [
       "256"
      ]
     },
     "execution_count": 104,
     "metadata": {},
     "output_type": "execute_result"
    }
   ],
   "source": [
    "pow(4,4)"
   ]
  },
  {
   "cell_type": "code",
   "execution_count": 105,
   "id": "2937a948",
   "metadata": {},
   "outputs": [
    {
     "data": {
      "text/plain": [
       "3"
      ]
     },
     "execution_count": 105,
     "metadata": {},
     "output_type": "execute_result"
    }
   ],
   "source": [
    "round(3.2)"
   ]
  },
  {
   "cell_type": "code",
   "execution_count": 106,
   "id": "52ef71ff",
   "metadata": {},
   "outputs": [
    {
     "data": {
      "text/plain": [
       "5"
      ]
     },
     "execution_count": 106,
     "metadata": {},
     "output_type": "execute_result"
    }
   ],
   "source": [
    "round(4.55)"
   ]
  },
  {
   "cell_type": "code",
   "execution_count": 107,
   "id": "1461f44c",
   "metadata": {},
   "outputs": [],
   "source": [
    "x=9.21"
   ]
  },
  {
   "cell_type": "code",
   "execution_count": 109,
   "id": "c90ef9a9",
   "metadata": {},
   "outputs": [
    {
     "name": "stdout",
     "output_type": "stream",
     "text": [
      "we are printing the value of x which is 9.21\n"
     ]
    }
   ],
   "source": [
    "print(f\"we are printing the value of x which is {x}\")"
   ]
  },
  {
   "cell_type": "code",
   "execution_count": 110,
   "id": "fdb810c9",
   "metadata": {},
   "outputs": [
    {
     "name": "stdout",
     "output_type": "stream",
     "text": [
      "we are printing the value of x which is 9.2\n"
     ]
    }
   ],
   "source": [
    "print(f\"we are printing the value of x which is {x:.1f}\")"
   ]
  },
  {
   "cell_type": "markdown",
   "id": "384f7812",
   "metadata": {},
   "source": [
    "Taking Input from Users"
   ]
  },
  {
   "cell_type": "code",
   "execution_count": 112,
   "id": "230917a9",
   "metadata": {},
   "outputs": [
    {
     "name": "stdout",
     "output_type": "stream",
     "text": [
      "Enter a number here:18\n",
      "18\n"
     ]
    }
   ],
   "source": [
    "num= input(\"Enter a number here:\")\n",
    "print(num)"
   ]
  },
  {
   "cell_type": "code",
   "execution_count": 1,
   "id": "d6d8d743",
   "metadata": {},
   "outputs": [
    {
     "name": "stdout",
     "output_type": "stream",
     "text": [
      "Enter a name here:Elainne\n",
      "Elainne\n"
     ]
    }
   ],
   "source": [
    "name= input(\"Enter a name here:\")\n",
    "print(name)"
   ]
  },
  {
   "cell_type": "code",
   "execution_count": 3,
   "id": "f5f9fc62",
   "metadata": {},
   "outputs": [
    {
     "data": {
      "text/plain": [
       "str"
      ]
     },
     "execution_count": 3,
     "metadata": {},
     "output_type": "execute_result"
    }
   ],
   "source": [
    "type(name)"
   ]
  },
  {
   "cell_type": "code",
   "execution_count": 4,
   "id": "f95a9930",
   "metadata": {},
   "outputs": [
    {
     "ename": "NameError",
     "evalue": "name 'num' is not defined",
     "output_type": "error",
     "traceback": [
      "\u001b[0;31m---------------------------------------------------------------------------\u001b[0m",
      "\u001b[0;31mNameError\u001b[0m                                 Traceback (most recent call last)",
      "\u001b[0;32m/var/folders/zp/rhfm7hrj1q3161_lznkqsflh0000gn/T/ipykernel_30419/3218005606.py\u001b[0m in \u001b[0;36m<module>\u001b[0;34m\u001b[0m\n\u001b[0;32m----> 1\u001b[0;31m \u001b[0mtype\u001b[0m\u001b[0;34m(\u001b[0m\u001b[0mnum\u001b[0m\u001b[0;34m)\u001b[0m\u001b[0;34m\u001b[0m\u001b[0;34m\u001b[0m\u001b[0m\n\u001b[0m",
      "\u001b[0;31mNameError\u001b[0m: name 'num' is not defined"
     ]
    }
   ],
   "source": [
    "type(num)"
   ]
  },
  {
   "cell_type": "code",
   "execution_count": 5,
   "id": "ed4c7a67",
   "metadata": {},
   "outputs": [
    {
     "ename": "NameError",
     "evalue": "name 'num' is not defined",
     "output_type": "error",
     "traceback": [
      "\u001b[0;31m---------------------------------------------------------------------------\u001b[0m",
      "\u001b[0;31mNameError\u001b[0m                                 Traceback (most recent call last)",
      "\u001b[0;32m/var/folders/zp/rhfm7hrj1q3161_lznkqsflh0000gn/T/ipykernel_30419/1167458927.py\u001b[0m in \u001b[0;36m<module>\u001b[0;34m\u001b[0m\n\u001b[0;32m----> 1\u001b[0;31m \u001b[0mnum\u001b[0m\u001b[0;34m\u001b[0m\u001b[0;34m\u001b[0m\u001b[0m\n\u001b[0m",
      "\u001b[0;31mNameError\u001b[0m: name 'num' is not defined"
     ]
    }
   ],
   "source": [
    "num"
   ]
  },
  {
   "cell_type": "code",
   "execution_count": 7,
   "id": "0bc950c1",
   "metadata": {},
   "outputs": [
    {
     "name": "stdout",
     "output_type": "stream",
     "text": [
      "The printed name is Elainne\n"
     ]
    }
   ],
   "source": [
    "print(\"The printed name is\",name)"
   ]
  },
  {
   "cell_type": "code",
   "execution_count": 8,
   "id": "3bbe2b69",
   "metadata": {},
   "outputs": [
    {
     "ename": "TypeError",
     "evalue": "can only concatenate str (not \"float\") to str",
     "output_type": "error",
     "traceback": [
      "\u001b[0;31m---------------------------------------------------------------------------\u001b[0m",
      "\u001b[0;31mTypeError\u001b[0m                                 Traceback (most recent call last)",
      "\u001b[0;32m/var/folders/zp/rhfm7hrj1q3161_lznkqsflh0000gn/T/ipykernel_30419/1560742739.py\u001b[0m in \u001b[0;36m<module>\u001b[0;34m\u001b[0m\n\u001b[0;32m----> 1\u001b[0;31m \u001b[0mprint\u001b[0m\u001b[0;34m(\u001b[0m\u001b[0;34m\"3\"\u001b[0m\u001b[0;34m+\u001b[0m\u001b[0;36m2.3\u001b[0m\u001b[0;34m)\u001b[0m\u001b[0;34m\u001b[0m\u001b[0;34m\u001b[0m\u001b[0m\n\u001b[0m",
      "\u001b[0;31mTypeError\u001b[0m: can only concatenate str (not \"float\") to str"
     ]
    }
   ],
   "source": [
    "print(\"3\"+2.3)"
   ]
  },
  {
   "cell_type": "code",
   "execution_count": 11,
   "id": "d621aa98",
   "metadata": {},
   "outputs": [],
   "source": [
    "_name=\"Elaine\""
   ]
  },
  {
   "cell_type": "code",
   "execution_count": null,
   "id": "3a6f4856",
   "metadata": {},
   "outputs": [],
   "source": []
  }
 ],
 "metadata": {
  "kernelspec": {
   "display_name": "Python 3 (ipykernel)",
   "language": "python",
   "name": "python3"
  },
  "language_info": {
   "codemirror_mode": {
    "name": "ipython",
    "version": 3
   },
   "file_extension": ".py",
   "mimetype": "text/x-python",
   "name": "python",
   "nbconvert_exporter": "python",
   "pygments_lexer": "ipython3",
   "version": "3.8.2"
  }
 },
 "nbformat": 4,
 "nbformat_minor": 5
}
